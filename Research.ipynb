{
 "cells": [
  {
   "cell_type": "code",
   "execution_count": 1,
   "id": "139cb75a",
   "metadata": {},
   "outputs": [
    {
     "name": "stderr",
     "output_type": "stream",
     "text": [
      "100%|██████████| 10000/10000 [00:01<00:00, 5589.85it/s]\n"
     ]
    }
   ],
   "source": [
    "from game import get_words"
   ]
  },
  {
   "cell_type": "code",
   "execution_count": 3,
   "id": "e4e8a1e3",
   "metadata": {},
   "outputs": [
    {
     "data": {
      "text/plain": [
       "[('da', 'højesteretspræsident')]"
      ]
     },
     "execution_count": 3,
     "metadata": {},
     "output_type": "execute_result"
    }
   ],
   "source": [
    "get_words(1)"
   ]
  },
  {
   "cell_type": "code",
   "execution_count": null,
   "id": "94c974a8",
   "metadata": {},
   "outputs": [],
   "source": []
  },
  {
   "cell_type": "code",
   "execution_count": null,
   "id": "0b6b6ad2",
   "metadata": {},
   "outputs": [],
   "source": []
  },
  {
   "cell_type": "code",
   "execution_count": null,
   "id": "6fd10f76",
   "metadata": {},
   "outputs": [],
   "source": [
    "get_words(5)"
   ]
  },
  {
   "cell_type": "code",
   "execution_count": null,
   "id": "aa434c31",
   "metadata": {},
   "outputs": [],
   "source": [
    "len(set(italian_vocab)|set(english_vocab))"
   ]
  },
  {
   "cell_type": "code",
   "execution_count": null,
   "id": "71fd5c6e",
   "metadata": {},
   "outputs": [],
   "source": [
    "languages = set()\n",
    "for x in data:\n",
    "    for k in x['queries']:\n",
    "        languages.add(k)"
   ]
  },
  {
   "cell_type": "code",
   "execution_count": null,
   "id": "317199e6",
   "metadata": {},
   "outputs": [],
   "source": [
    "languages"
   ]
  },
  {
   "cell_type": "code",
   "execution_count": null,
   "id": "e36b6671",
   "metadata": {},
   "outputs": [],
   "source": []
  },
  {
   "cell_type": "code",
   "execution_count": null,
   "id": "23f6bfdd",
   "metadata": {},
   "outputs": [],
   "source": []
  },
  {
   "cell_type": "code",
   "execution_count": null,
   "id": "3265cb2f",
   "metadata": {},
   "outputs": [],
   "source": []
  }
 ],
 "metadata": {
  "kernelspec": {
   "display_name": "Python 3",
   "language": "python",
   "name": "python3"
  },
  "language_info": {
   "codemirror_mode": {
    "name": "ipython",
    "version": 3
   },
   "file_extension": ".py",
   "mimetype": "text/x-python",
   "name": "python",
   "nbconvert_exporter": "python",
   "pygments_lexer": "ipython3",
   "version": "3.8.9"
  }
 },
 "nbformat": 4,
 "nbformat_minor": 5
}
