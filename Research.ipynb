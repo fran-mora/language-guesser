{
 "cells": [
  {
   "cell_type": "code",
   "execution_count": 10,
   "id": "139cb75a",
   "metadata": {},
   "outputs": [],
   "source": [
    "import util\n",
    "import json\n",
    "import random"
   ]
  },
  {
   "cell_type": "code",
   "execution_count": 155,
   "id": "c6d711d2",
   "metadata": {},
   "outputs": [],
   "source": [
    "data = [json.loads(line) for line in util.readlines('data/mkqa.jsonl')]\n",
    "for x in data:\n",
    "    del x['queries']['zh_hk']\n",
    "    del x['queries']['zh_tw']"
   ]
  },
  {
   "cell_type": "code",
   "execution_count": 70,
   "id": "e3fb65a0",
   "metadata": {},
   "outputs": [],
   "source": [
    "import re\n",
    "def get_words(text):\n",
    "    words = set(re.sub(r\"[,.;\\-:'\\\"@#?!&$]+\\ *\", \" \", text.lower()).split())\n",
    "    return {word for word in words if len(word) > 3}"
   ]
  },
  {
   "cell_type": "code",
   "execution_count": 161,
   "id": "f6cbedce",
   "metadata": {},
   "outputs": [],
   "source": [
    "LANGUAGES = {\n",
    " 'ar': 'Arabic',\n",
    " 'da': 'Danish',\n",
    " 'de': 'German',\n",
    " 'en': 'English',\n",
    " 'es': 'Spanish',\n",
    " 'fi': 'Finnish',\n",
    " 'fr': 'French',\n",
    " 'he': 'Hebrew',\n",
    " 'hu': 'Hungarian',\n",
    " 'it': 'Italian',\n",
    " 'ja': 'Japanese',\n",
    " 'km': 'Cambodian',\n",
    " 'ko': 'Korean',\n",
    " 'ms': 'Malay',\n",
    " 'nl': 'Dutch',\n",
    " 'no': 'Norwegian',\n",
    " 'pl': 'Polish',\n",
    " 'pt': 'Portuguese',\n",
    " 'ru': 'Russian',\n",
    " 'sv': 'Swedish',\n",
    " 'th': 'Thai',\n",
    " 'tr': 'Turkish',\n",
    " 'vi': 'Vietnamese',\n",
    " 'zh_cn': 'Chinese',\n",
    "}"
   ]
  },
  {
   "cell_type": "code",
   "execution_count": 162,
   "id": "1ce6a9a1",
   "metadata": {},
   "outputs": [],
   "source": [
    "def get_word():\n",
    "    questions = random.choice(data)['queries']\n",
    "    languages = list(questions.keys())\n",
    "    language = random.choice(languages)\n",
    "    question = questions[language]\n",
    "    other_words = {word for lang in questions if lang != language for word in get_words(questions[lang])}\n",
    "    words = [word for word in get_words(question) if word not in other_words]\n",
    "    word = random.choice(words)\n",
    "    return word, LANGUAGES[language]"
   ]
  },
  {
   "cell_type": "code",
   "execution_count": 163,
   "id": "0ff8c423",
   "metadata": {},
   "outputs": [
    {
     "data": {
      "text/plain": [
       "('thành', 'Vietnamese')"
      ]
     },
     "execution_count": 163,
     "metadata": {},
     "output_type": "execute_result"
    }
   ],
   "source": [
    "get_word()"
   ]
  },
  {
   "cell_type": "code",
   "execution_count": 158,
   "id": "6fd10f76",
   "metadata": {},
   "outputs": [],
   "source": []
  },
  {
   "cell_type": "code",
   "execution_count": 159,
   "id": "71fd5c6e",
   "metadata": {},
   "outputs": [],
   "source": [
    "languages = set()\n",
    "for x in data:\n",
    "    for k in x['queries']:\n",
    "        languages.add(k)"
   ]
  },
  {
   "cell_type": "code",
   "execution_count": 160,
   "id": "317199e6",
   "metadata": {},
   "outputs": [
    {
     "data": {
      "text/plain": [
       "{'ar',\n",
       " 'da',\n",
       " 'de',\n",
       " 'en',\n",
       " 'es',\n",
       " 'fi',\n",
       " 'fr',\n",
       " 'he',\n",
       " 'hu',\n",
       " 'it',\n",
       " 'ja',\n",
       " 'km',\n",
       " 'ko',\n",
       " 'ms',\n",
       " 'nl',\n",
       " 'no',\n",
       " 'pl',\n",
       " 'pt',\n",
       " 'ru',\n",
       " 'sv',\n",
       " 'th',\n",
       " 'tr',\n",
       " 'vi',\n",
       " 'zh_cn'}"
      ]
     },
     "execution_count": 160,
     "metadata": {},
     "output_type": "execute_result"
    }
   ],
   "source": [
    "languages"
   ]
  },
  {
   "cell_type": "code",
   "execution_count": null,
   "id": "e36b6671",
   "metadata": {},
   "outputs": [],
   "source": []
  }
 ],
 "metadata": {
  "kernelspec": {
   "display_name": "Python 3 (ipykernel)",
   "language": "python",
   "name": "python3"
  },
  "language_info": {
   "codemirror_mode": {
    "name": "ipython",
    "version": 3
   },
   "file_extension": ".py",
   "mimetype": "text/x-python",
   "name": "python",
   "nbconvert_exporter": "python",
   "pygments_lexer": "ipython3",
   "version": "3.8.2"
  }
 },
 "nbformat": 4,
 "nbformat_minor": 5
}
